{
 "cells": [
  {
   "cell_type": "code",
   "execution_count": 1,
   "id": "9a027cda",
   "metadata": {},
   "outputs": [
    {
     "name": "stderr",
     "output_type": "stream",
     "text": [
      "/raid/home/detectionfeuxdeforet/caillaud_gab/nlp_venv/lib/python3.12/site-packages/tqdm/auto.py:21: TqdmWarning: IProgress not found. Please update jupyter and ipywidgets. See https://ipywidgets.readthedocs.io/en/stable/user_install.html\n",
      "  from .autonotebook import tqdm as notebook_tqdm\n"
     ]
    }
   ],
   "source": [
    "from src.utils import load_data"
   ]
  },
  {
   "cell_type": "code",
   "execution_count": 2,
   "id": "1713b0fa",
   "metadata": {},
   "outputs": [],
   "source": [
    "ds_train = load_data(\"data/traindata.csv\")\n",
    "ds_val = load_data(\"data/devdata.csv\")"
   ]
  },
  {
   "cell_type": "code",
   "execution_count": 3,
   "id": "befb16f4",
   "metadata": {},
   "outputs": [
    {
     "name": "stderr",
     "output_type": "stream",
     "text": [
      "Map: 100%|██████████| 1503/1503 [00:00<00:00, 18119.69 examples/s]\n",
      "Map: 100%|██████████| 376/376 [00:00<00:00, 17177.97 examples/s]\n"
     ]
    }
   ],
   "source": [
    "from src.utils import remap_aspect\n",
    "ds_train = ds_train.map(remap_aspect)\n",
    "ds_val = ds_val.map(remap_aspect)"
   ]
  },
  {
   "cell_type": "code",
   "execution_count": 4,
   "id": "d979eae9",
   "metadata": {},
   "outputs": [
    {
     "data": {
      "text/plain": [
       "{'polarity': 'positive',\n",
       " 'Aspect_Category': 'the general ambience',\n",
       " 'Target_term': 'seating',\n",
       " 'Character_offset': '18:25',\n",
       " 'labels': 0,\n",
       " 'Sentence': \"short and sweet – seating is great:it's romantic,cozy and private.\"}"
      ]
     },
     "execution_count": 4,
     "metadata": {},
     "output_type": "execute_result"
    }
   ],
   "source": [
    "ds_train[0]"
   ]
  },
  {
   "cell_type": "code",
   "execution_count": 5,
   "id": "8e108037",
   "metadata": {},
   "outputs": [],
   "source": [
    "from src.utils import build_prompt"
   ]
  },
  {
   "cell_type": "code",
   "execution_count": 6,
   "id": "51996b0f",
   "metadata": {},
   "outputs": [
    {
     "data": {
      "text/plain": [
       "{'polarity': ['positive', 'positive', 'positive', 'negative', 'positive'],\n",
       " 'Aspect_Category': ['the general ambience',\n",
       "  'the general ambience',\n",
       "  'the quality of the food',\n",
       "  'the overall service',\n",
       "  'the variety or style of food options'],\n",
       " 'Target_term': ['seating', 'trattoria', 'food', 'STAFF', 'menu'],\n",
       " 'Character_offset': ['18:25', '25:34', '98:102', '5:10', '4:8'],\n",
       " 'labels': [0, 0, 0, 1, 0],\n",
       " 'Sentence': [\"short and sweet – seating is great:it's romantic,cozy and private.\",\n",
       "  'This quaint and romantic trattoria is at the top of my Manhattan restaurant list.',\n",
       "  'The have over 100 different beers to offer thier guest so that made my husband very happy and the food was delicious, if I must recommend a dish it must be the pumkin tortelini.',\n",
       "  'THIS STAFF SHOULD BE FIRED.',\n",
       "  'The menu looked great, and the waiter was very nice, but when the food came, it was average.']}"
      ]
     },
     "execution_count": 6,
     "metadata": {},
     "output_type": "execute_result"
    }
   ],
   "source": [
    "ds_train[:5]"
   ]
  },
  {
   "cell_type": "code",
   "execution_count": 8,
   "id": "8f45ea75",
   "metadata": {},
   "outputs": [],
   "source": [
    "from torch.utils.data import Subset\n",
    "demo = Subset(ds_train, [0,1,2,3,4,5])"
   ]
  },
  {
   "cell_type": "code",
   "execution_count": null,
   "id": "6e711158",
   "metadata": {},
   "outputs": [],
   "source": [
    "def build_prompt(example, demonstrations):\n",
    "    prompt = \"You are a sentiment analysis model. Classify the sentiment as Positive, Negative, or Neutral.\\n\"\n",
    "    for demo in demonstrations:\n",
    "        prompt += f\"Sentence: {demo['Sentence']}\\n\"\n",
    "        prompt += f\"Aspect: {demo['Aspect_Category']}, Term: {demo['Target_term']}\\n\"\n",
    "        prompt += f\"Sentiment: {demo['polarity']}\\n\\n\"\n",
    "\n",
    "    prompt += f\"Sentence: {example['Sentence']}\\n\"\n",
    "    prompt += f\"Aspect: {example['Aspect_Category']}, Term: {example['Target_term']}\\n\"\n",
    "    prompt += \"Sentiment:\"\n",
    "    return prompt"
   ]
  },
  {
   "cell_type": "code",
   "execution_count": 9,
   "id": "3a7ab9ca",
   "metadata": {},
   "outputs": [
    {
     "name": "stdout",
     "output_type": "stream",
     "text": [
      "You are a sentiment analysis model. Classify the sentiment as Positive, Negative, or Neutral.\n",
      "Sentence: short and sweet – seating is great:it's romantic,cozy and private.\n",
      "Aspect: the general ambience, Term: seating\n",
      "Sentiment: positive\n",
      "\n",
      "Sentence: This quaint and romantic trattoria is at the top of my Manhattan restaurant list.\n",
      "Aspect: the general ambience, Term: trattoria\n",
      "Sentiment: positive\n",
      "\n",
      "Sentence: The have over 100 different beers to offer thier guest so that made my husband very happy and the food was delicious, if I must recommend a dish it must be the pumkin tortelini.\n",
      "Aspect: the quality of the food, Term: food\n",
      "Sentiment: positive\n",
      "\n",
      "Sentence: THIS STAFF SHOULD BE FIRED.\n",
      "Aspect: the overall service, Term: STAFF\n",
      "Sentiment: negative\n",
      "\n",
      "Sentence: The menu looked great, and the waiter was very nice, but when the food came, it was average.\n",
      "Aspect: the variety or style of food options, Term: menu\n",
      "Sentiment: positive\n",
      "\n",
      "Sentence: The tuna and wasabe potatoes are excellent.\n",
      "Aspect: the quality of the food, Term: tuna\n",
      "Sentiment: positive\n",
      "\n",
      "Sentence: great food, great wine list, great service in a great neighborhood...\n",
      "Aspect: the location of the restaurant, Term: neighborhood\n",
      "Sentiment:\n"
     ]
    }
   ],
   "source": [
    "example = ds_val[0]\n",
    "prompt = build_prompt(example, demo)\n",
    "print(prompt)"
   ]
  },
  {
   "cell_type": "code",
   "execution_count": 57,
   "id": "a2f0ba6f",
   "metadata": {},
   "outputs": [],
   "source": [
    "import torch\n",
    "from typing import List\n",
    "from ollama import Client\n",
    "from tqdm import tqdm\n",
    "class Classifier:\n",
    "    \"\"\"\n",
    "    The Classifier: complete the definition of this class template by completing the __init__() function and\n",
    "    the 2 methods train() and predict() below. Please do not change the signature of these methods\n",
    "     \"\"\"\n",
    "\n",
    "\n",
    "    ############################################# complete the classifier class below\n",
    "    \n",
    "    def __init__(self, ollama_url: str):\n",
    "        \"\"\"\n",
    "        This should create and initilize the model.\n",
    "        !!!!! If the approach you have choosen is in-context-learning with an LLM from Ollama, you should initialize\n",
    "         the ollama client here using the 'ollama_url' that is provided (please do not use your own ollama\n",
    "         URL!)\n",
    "        !!!!! If you have choosen an approach based on training an MLM or a generative LM, then your model should\n",
    "        be defined and initialized here.\n",
    "        \"\"\"\n",
    "        self.model = None\n",
    "        self.client = Client(\n",
    "            host=ollama_url\n",
    "        )\n",
    "        self.system_prompt = '''You are a helpful sentiment analysis model. You will be provided with a sentence, a term to classify as positive or negative, \n",
    "                              and the aspect of the term, i.e. what it means in the context of the sentence. \n",
    "\n",
    "                              Here are some examples of what is expected : \n",
    "\n",
    "                              Sentence: short and sweet – seating is great:it's romantic,cozy and private.\n",
    "                              Aspect: the general ambience, Term: seating\n",
    "                              Sentiment: positive\n",
    "\n",
    "                              Sentence: This quaint and romantic trattoria is at the top of my Manhattan restaurant list.\n",
    "                              Aspect: the general ambience, Term: trattoria\n",
    "                              Sentiment: positive\n",
    "\n",
    "                              Sentence: The have over 100 different beers to offer thier guest so that made my husband very happy and the food was delicious, if I must recommend a dish it must be the pumkin tortelini.\n",
    "                              Aspect: the quality of the food, Term: food\n",
    "                              Sentiment: positive\n",
    "\n",
    "                              Sentence: THIS STAFF SHOULD BE FIRED.\n",
    "                              Aspect: the overall service, Term: STAFF\n",
    "                              Sentiment: negative\n",
    "\n",
    "                              Sentence: The menu looked great, and the waiter was very nice, but when the food came, it was average.\n",
    "                              Aspect: the variety or style of food options, Term: menu\n",
    "                              Sentiment: positive\n",
    "\n",
    "                              Sentence: The tuna and wasabe potatoes are excellent.\n",
    "                              Aspect: the quality of the food, Term: tuna\n",
    "                              Sentiment: positive\n",
    "\n",
    "\n",
    "                              Please provide your reasoning in free text format and anf then provide the classification of the word you are asked to analyze. Please only use the words 'positive' or 'negative' for indicating your sentiment at the end.\n",
    "                              You must use this format:\n",
    "                              Explanation:\n",
    "                              Sentiment: \n",
    "                              '''\n",
    "\n",
    "\n",
    "    \n",
    "\n",
    "    def train(self, train_filename: str, dev_filename: str, device: torch.device):\n",
    "        \"\"\"\n",
    "        Trains the model on the training set stored in file trainfile\n",
    "        PLEASE:\n",
    "          - DO NOT CHANGE THE SIGNATURE OF THIS METHOD\n",
    "        If the approach you have choosen is in-context-learning with an LLM from Ollama, you must\n",
    "          not train the model, and this method should contain only the \"pass\" instruction\n",
    "        Otherwise:\n",
    "          - PUT THE MODEL and DATA on the specified device! Do not use another device\n",
    "          - DO NOT USE THE DEV DATA AS TRAINING EXAMPLES, YOU CAN USE THEM ONLY FOR THE OPTIMIZATION\n",
    "         OF MODEL HYPERPARAMETERS\n",
    "\n",
    "        \"\"\"\n",
    "        # in-context learning with ollama\n",
    "        pass\n",
    "\n",
    "\n",
    "\n",
    "    def predict(self, data_filename: str, device: torch.device) -> List[str]:\n",
    "        \"\"\"Predicts class labels for the input instances in file 'datafile'\n",
    "        Returns the list of predicted labels\n",
    "        PLEASE:\n",
    "          - DO NOT CHANGE THE SIGNATURE OF THIS METHOD\n",
    "        If the approach you have choosen is in-context-learning with an LLM from Ollama, ignore the 'device'\n",
    "        parameter (because the device is specified when launching the Ollama server, and not by the client side)\n",
    "        Otherwise:\n",
    "          - PUT THE MODEL and DATA on the specified device! Do not use another device\n",
    "        \"\"\"\n",
    "\n",
    "        test_data = load_data(data_filename)\n",
    "        test_data = test_data.map(remap_aspect)\n",
    "\n",
    "        predicted_labels = []\n",
    "\n",
    "        for i in tqdm(range(len(test_data))):\n",
    "          current_user_prompt = f'''\n",
    "          Sentence: {test_data[i]['Sentence']}\n",
    "          Aspect: {test_data[i]['Aspect_Category']}, Term: {test_data[i]['Target_term']}\n",
    "          Sentiment: '''\n",
    "\n",
    "          response = classif.client.chat(model='gemma3:1b', messages=[\n",
    "          {\n",
    "            'role': 'system',\n",
    "            'content': system_prompt,\n",
    "          },\n",
    "          {'role': 'user', \n",
    "          'content': current_user_prompt}\n",
    "          ])\n",
    "          classification = response.message.content.split(\"Sentiment:\")[-1] # take the part after Sentiment\n",
    "          if \"positive\" in classification:\n",
    "            predicted_labels.append(\"positive\")\n",
    "          elif \"negative\" in classification:\n",
    "            predicted_labels.append(\"negative\")\n",
    "          else:\n",
    "            print(f\"undefined. using positive per default. Response from model: {response.message.content}\")\n",
    "            predicted_labels.append(\"positive\")\n",
    "        return predicted_labels\n",
    "\n",
    "\n"
   ]
  },
  {
   "cell_type": "code",
   "execution_count": 44,
   "id": "21870533",
   "metadata": {},
   "outputs": [],
   "source": [
    "classif = Classifier(ollama_url='http://127.0.0.1:11434')"
   ]
  },
  {
   "cell_type": "code",
   "execution_count": 41,
   "id": "350a0cf7",
   "metadata": {},
   "outputs": [
    {
     "data": {
      "text/plain": [
       "{'polarity': 'positive',\n",
       " 'Aspect_Category': 'the location of the restaurant',\n",
       " 'Target_term': 'neighborhood',\n",
       " 'Character_offset': '54:66',\n",
       " 'labels': 0,\n",
       " 'Sentence': 'great food, great wine list, great service in a great neighborhood...'}"
      ]
     },
     "execution_count": 41,
     "metadata": {},
     "output_type": "execute_result"
    }
   ],
   "source": [
    "ds_val[0]"
   ]
  },
  {
   "cell_type": "code",
   "execution_count": 55,
   "id": "0d075666",
   "metadata": {},
   "outputs": [],
   "source": [
    "system_prompt =  '''You are a helpful sentiment analysis model. You will be provided with a sentence, a term to classify as positive or negative, \n",
    "and the aspect of the term, i.e. what it means in the context of the sentence. \n",
    "\n",
    "Here are some examples of what is expected : \n",
    "\n",
    "Sentence: short and sweet – seating is great:it's romantic,cozy and private.\n",
    "Term: seating\n",
    "Aspect: the general ambience\n",
    "Sentiment: positive\n",
    "\n",
    "Sentence: This quaint and romantic trattoria is at the top of my Manhattan restaurant list\n",
    "Term: trattoria\n",
    "Aspect: the general ambience\n",
    "Sentiment: positive\n",
    "\n",
    "Sentence: The have over 100 different beers to offer thier guest so that made my husband very happy and the food was delicious, if I must recommend a dish it must be the pumkin tortelini.\n",
    " Term: food\n",
    "Aspect: the quality of the food\n",
    "Sentiment: positive\n",
    "\n",
    "Sentence: THIS STAFF SHOULD BE FIRED.\n",
    "Term: STAFF\n",
    "Aspect: the overall service\n",
    "Sentiment: negative\n",
    "\n",
    "Sentence: The menu looked great, and the waiter was very nice, but when the food came, it was average.\n",
    "Term: menu\n",
    "Aspect: the variety or style of food options \n",
    "Sentiment: positive\n",
    "\n",
    "Sentence: The tuna and wasabe potatoes are excellent.\n",
    "Term: tuna\n",
    "Aspect: the quality of the food\n",
    "Sentiment: positive\n",
    "\n",
    "\n",
    "Please provide your reasoning in free text format and anf then provide the classification of the word you are asked to analyze. Please only use the words 'positive' or 'negative' for indicating your sentiment at the end.\n",
    "You must use this format:\n",
    "Term:\n",
    "Explanation:\n",
    "Sentiment: \n",
    "'''\n",
    "\n",
    "\n",
    "response = classif.client.chat(model='gemma3:1b', messages=[\n",
    "  {\n",
    "    'role': 'system',\n",
    "    'content': system_prompt,\n",
    "  },\n",
    "  {'role': 'user', \n",
    "  'content': '''Sentence: great food, great wine list, great service in a great neighborhood...\n",
    "Aspect: the location of the restaurant, Term: neighborhood\n",
    "Sentiment:'''}\n",
    "])"
   ]
  },
  {
   "cell_type": "code",
   "execution_count": 56,
   "id": "eefd1cc3",
   "metadata": {},
   "outputs": [
    {
     "data": {
      "text/plain": [
       "ChatResponse(model='gemma3:1b', created_at='2025-04-18T13:19:00.093506351Z', done=True, done_reason='stop', total_duration=157884618, load_duration=57026014, prompt_eval_count=393, prompt_eval_duration=39480334, eval_count=4, eval_duration=59215011, message=Message(role='assistant', content='Neighborhood: excellent', images=None, tool_calls=None))"
      ]
     },
     "execution_count": 56,
     "metadata": {},
     "output_type": "execute_result"
    }
   ],
   "source": [
    "response"
   ]
  },
  {
   "cell_type": "code",
   "execution_count": 36,
   "id": "d536e704",
   "metadata": {},
   "outputs": [
    {
     "data": {
      "text/plain": [
       "'Explanation: The sentence explicitly highlights the positive aspects of the restaurant’s location and atmosphere.\\nSentiment: positive'"
      ]
     },
     "execution_count": 36,
     "metadata": {},
     "output_type": "execute_result"
    }
   ],
   "source": [
    "response.message.content"
   ]
  },
  {
   "cell_type": "code",
   "execution_count": 37,
   "id": "5112f131",
   "metadata": {},
   "outputs": [
    {
     "name": "stdout",
     "output_type": "stream",
     "text": [
      " positive\n"
     ]
    }
   ],
   "source": [
    "res = response.message.content.split(\"Sentiment:\")[-1] # take the part after Sentiment\n",
    "print(res)"
   ]
  },
  {
   "cell_type": "code",
   "execution_count": 58,
   "id": "37e43fba",
   "metadata": {},
   "outputs": [
    {
     "name": "stderr",
     "output_type": "stream",
     "text": [
      "Map: 100%|██████████| 376/376 [00:00<00:00, 15215.81 examples/s]\n",
      "  0%|          | 0/376 [00:00<?, ?it/s]"
     ]
    },
    {
     "name": "stderr",
     "output_type": "stream",
     "text": [
      "  6%|▌         | 21/376 [00:09<02:35,  2.28it/s]"
     ]
    },
    {
     "name": "stdout",
     "output_type": "stream",
     "text": [
      "undefined. using positive per default. Response from model: Term: Service\n",
      "Explanation: The sentence highlights a discrepancy between speed and thoroughness, indicating a mixed sentiment.\n",
      "Sentiment: neutral\n"
     ]
    },
    {
     "name": "stderr",
     "output_type": "stream",
     "text": [
      "100%|██████████| 376/376 [02:56<00:00,  2.13it/s]\n"
     ]
    }
   ],
   "source": [
    "classif = Classifier(ollama_url='http://127.0.0.1:11434')\n",
    "val_preds = classif.predict(\"data/devdata.csv\", device=\"cuda\")"
   ]
  },
  {
   "cell_type": "code",
   "execution_count": 52,
   "id": "b081159a",
   "metadata": {},
   "outputs": [
    {
     "name": "stdout",
     "output_type": "stream",
     "text": [
      "337\n",
      "0.8962765957446809\n"
     ]
    }
   ],
   "source": [
    "acc = 0\n",
    "for i in range(len(ds_val)):\n",
    "    if ds_val[i]['polarity']==val_preds[i]:\n",
    "        acc +=1\n",
    "print(acc)\n",
    "print(acc/len(ds_val))"
   ]
  },
  {
   "cell_type": "code",
   "execution_count": null,
   "id": "f22da1a2",
   "metadata": {},
   "outputs": [],
   "source": []
  }
 ],
 "metadata": {
  "kernelspec": {
   "display_name": "Python 3 (ipykernel)",
   "language": "python",
   "name": "python3"
  },
  "language_info": {
   "codemirror_mode": {
    "name": "ipython",
    "version": 3
   },
   "file_extension": ".py",
   "mimetype": "text/x-python",
   "name": "python",
   "nbconvert_exporter": "python",
   "pygments_lexer": "ipython3",
   "version": "3.12.9"
  }
 },
 "nbformat": 4,
 "nbformat_minor": 5
}
