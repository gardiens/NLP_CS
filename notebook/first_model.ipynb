{
 "cells": [
  {
   "cell_type": "code",
   "execution_count": 1,
   "id": "c6a11c4b",
   "metadata": {},
   "outputs": [
    {
     "name": "stderr",
     "output_type": "stream",
     "text": [
      "/raid/home/bournez_pie/mva_geom/NLP_CS/venv/lib/python3.12/site-packages/tqdm/auto.py:21: TqdmWarning: IProgress not found. Please update jupyter and ipywidgets. See https://ipywidgets.readthedocs.io/en/stable/user_install.html\n",
      "  from .autonotebook import tqdm as notebook_tqdm\n"
     ]
    }
   ],
   "source": [
    "import os \n",
    "DATA_PATH=\"NLP_CS/data/\"\n",
    "train_data=os.path.join(DATA_PATH,\"traindata.csv\")\n",
    "test_data=os.path.join(DATA_PATH,\"testdata.csv\")\n",
    "import pandas as pd\n",
    "import numpy as np\n",
    "import matplotlib.pyplot as plt\n",
    "from transformers import AutoTokenizer, AutoModelForCausalLM\n",
    "import torch"
   ]
  },
  {
   "cell_type": "code",
   "execution_count": 11,
   "id": "d34fb7d5",
   "metadata": {},
   "outputs": [],
   "source": [
    "import os\n",
    "os.environ[\"TOKENIZERS_PARALLELISM\"] = \"false\""
   ]
  },
  {
   "cell_type": "code",
   "execution_count": null,
   "id": "74982abc",
   "metadata": {},
   "outputs": [
    {
     "name": "stdout",
     "output_type": "stream",
     "text": [
      "2025-04-07 10:46:51,995 - clearml - WARNING - No projects were found with name(s): NLP_CS\n",
      "ClearML Task: created new task id=b5def593185942e4a8d630055e944dcf\n"
     ]
    },
    {
     "name": "stderr",
     "output_type": "stream",
     "text": [
      " 83%|████████▎ | 196/235 [03:37<00:43,  1.11s/it]"
     ]
    },
    {
     "name": "stdout",
     "output_type": "stream",
     "text": [
      "2025-04-07 10:46:54,050 - clearml.Repository Detection - WARNING - Password protected Jupyter Notebook server was found! Add `sdk.development.jupyter_server_password=<jupyter_password>` to ~/clearml.conf\n",
      "2025-04-07 10:46:54,053 - clearml.Task - INFO - Storing jupyter notebook directly as code\n"
     ]
    },
    {
     "name": "stderr",
     "output_type": "stream",
     "text": [
      "\n"
     ]
    },
    {
     "name": "stdout",
     "output_type": "stream",
     "text": [
      "ClearML results page: https://app.clear.ml/projects/459d62b15dfc436e81a0bf48eacd0c8f/experiments/b5def593185942e4a8d630055e944dcf/output/log\n"
     ]
    },
    {
     "name": "stdout",
     "output_type": "stream",
     "text": [
      "Running inside MIG, Nvidia driver cannot export utilization, pushing fixed value 100\n"
     ]
    }
   ],
   "source": [
    "from NLP_CS.src.clearml import safe_init_clearml\n",
    "task=safe_init_clearml(\n",
    "    project_name=\"NLP_CS\",\n",
    "    task_name=\"Fine-tune GPT2\",\n",
    ")"
   ]
  },
  {
   "cell_type": "code",
   "execution_count": 2,
   "id": "8d639570",
   "metadata": {},
   "outputs": [],
   "source": [
    "# load the csv  by hand \n",
    "def load_data(file):\n",
    "    polarity=[]\n",
    "    Aspect_Category=[]\n",
    "    Target_term=[]\n",
    "    Character_offset=[]\n",
    "    Sentence=[]\n",
    "    polarity_to_label={\n",
    "        \"positive\":0,\n",
    "        \"negative\":1,\n",
    "        \"neutral\":2,\n",
    "    }\n",
    "    labels=[]\n",
    "    with open(train_data) as f:\n",
    "        for line in f:\n",
    "            line=line.strip()\n",
    "\n",
    "            # split by space and remove the \\t \n",
    "            tokens=line.split(\"\\t\") \n",
    "            polarity.append(tokens[0])\n",
    "            Aspect_Category.append(tokens[1])\n",
    "            Target_term.append(tokens[2])\n",
    "            Character_offset.append(tokens[3])\n",
    "            assert len(tokens[4:])==1,\"sentence should be one token,got \"+str(len(tokens[4:]))\n",
    "            Sentence.append(str(tokens[4:][0]))\n",
    "            labels.append(polarity_to_label[tokens[0]])\n",
    "    ds_train=pd.DataFrame({\"polarity\":polarity,\n",
    "                        \"Aspect_Category\":Aspect_Category,\n",
    "                        \"Target_term\":Target_term,\n",
    "                        \"Character_offset\":Character_offset,\n",
    "\n",
    "                        \"labels\":labels,\n",
    "                        \"Sentence\":Sentence})\n",
    "    ds_train\n",
    "    from datasets import Dataset\n",
    "    ds_train = Dataset.from_pandas(ds_train)\n",
    "    ds_train\n",
    "    return ds_train \n",
    "ds_train=load_data(train_data)\n",
    "ds_test=load_data(test_data)"
   ]
  },
  {
   "cell_type": "markdown",
   "id": "6571eaa0",
   "metadata": {},
   "source": [
    "# Reprise du TD de NLP"
   ]
  },
  {
   "cell_type": "code",
   "execution_count": 12,
   "id": "78f9c6cf",
   "metadata": {},
   "outputs": [],
   "source": [
    "import torch\n",
    "from transformers import AutoConfig, AutoTokenizer, AutoModel, pipeline\n",
    "from transformers import logging as hflogging\n",
    "\n",
    "plm_name=\"facebook/opt-125m\"\n",
    "# plm_name=\"google-bert/bert-base-cased\"\n",
    "# Load the config, the tokenizer and the model itself:\n",
    "lmconfig = AutoConfig.from_pretrained(plm_name)\n",
    "lmtokenizer = AutoTokenizer.from_pretrained(plm_name)\n",
    "lm = AutoModel.from_pretrained(plm_name, output_attentions=False)\n"
   ]
  },
  {
   "cell_type": "markdown",
   "id": "a65c58a0",
   "metadata": {},
   "source": [
    "Basic top Model"
   ]
  },
  {
   "cell_type": "code",
   "execution_count": 5,
   "id": "1867b827",
   "metadata": {},
   "outputs": [],
   "source": [
    "from transformers import TrainingArguments, Trainer\n",
    "import numpy as np\n",
    "\n",
    "\n",
    "class TransformerBinaryClassifier(torch.nn.Module):\n",
    "\n",
    "    def __init__(self, plm_name: str):\n",
    "        super(TransformerBinaryClassifier, self).__init__()\n",
    "        self.lmconfig = AutoConfig.from_pretrained(plm_name)\n",
    "        self.lmtokenizer = AutoTokenizer.from_pretrained(plm_name)\n",
    "        self.lm = AutoModel.from_pretrained(plm_name, output_attentions=False)\n",
    "        self.emb_dim = self.lmconfig.hidden_size\n",
    "        self.output_size = 1\n",
    "        self.classifier = torch.nn.Sequential(\n",
    "            torch.nn.Dropout(0.2),\n",
    "            torch.nn.Linear(self.emb_dim, self.output_size),\n",
    "            torch.nn.Sigmoid()\n",
    "        )\n",
    "        self.loss_fn = torch.nn.CrossEntropyLoss(reduction='mean')\n",
    "\n",
    "\n",
    "    def forward(self, x):\n",
    "        x : torch.Tensor = self.lm(x['input_ids'], x['attention_mask']).last_hidden_state\n",
    "        global_vects = x.mean(dim=1)\n",
    "        x = self.classifier(global_vects)\n",
    "        return x.squeeze(-1)\n",
    "\n",
    "    def compute_loss(self, predictions, target):\n",
    "        return self.loss_fn(predictions, target)\n",
    "\n",
    "\n",
    "model = TransformerBinaryClassifier(plm_name)"
   ]
  },
  {
   "cell_type": "code",
   "execution_count": 6,
   "id": "b29881f9",
   "metadata": {},
   "outputs": [
    {
     "name": "stderr",
     "output_type": "stream",
     "text": [
      "Asking to truncate to max_length but no maximum length is provided and the model has no predefined maximum length. Default to no truncation.\n"
     ]
    }
   ],
   "source": [
    "X_train_encoded = model.lmtokenizer(ds_train[\"Sentence\"],\n",
    "                            truncation=True,\n",
    "                            padding=False,\n",
    "                            add_special_tokens=False,\n",
    "                            return_tensors=None,\n",
    "                            return_offsets_mapping=False,\n",
    "                        )\n",
    "X_val_encoded = model.lmtokenizer(ds_test[\"Sentence\"],\n",
    "                            truncation=True,\n",
    "                            padding=False,\n",
    "                            add_special_tokens=False,\n",
    "                            return_tensors=None,\n",
    "                            return_offsets_mapping=False,\n",
    "                        )"
   ]
  },
  {
   "cell_type": "code",
   "execution_count": 7,
   "id": "9b705586",
   "metadata": {},
   "outputs": [
    {
     "name": "stderr",
     "output_type": "stream",
     "text": [
      "Map: 100%|██████████| 1503/1503 [00:00<00:00, 21597.53 examples/s]\n",
      "Map: 100%|██████████| 1503/1503 [00:00<00:00, 33684.42 examples/s]\n"
     ]
    }
   ],
   "source": [
    "def tokenize_function(examples):\n",
    "    return model.lmtokenizer(examples[\"Sentence\"], truncation=True)\n",
    "def tokenize_function2(examples):\n",
    "    # Concatenate fields into a single input string\n",
    "    combined_input = [f\"{a} [SEP] {t} [SEP] {s}\" for a, t, s in zip(examples[\"Aspect_Category\"], examples[\"Target_term\"], examples[\"Sentence\"])]\n",
    "    return model.lmtokenizer(combined_input, truncation=True)\n",
    "def get_tok_ds(ds):\n",
    "    tok_ds = ds.map(tokenize_function, batched=True)\n",
    "    tok_ds = tok_ds.remove_columns([\"polarity\", \"Aspect_Category\", \"Target_term\", \"Character_offset\", \"Sentence\"])\n",
    "    return tok_ds\n",
    "tok_ds_train = ds_train.map(tokenize_function2, batched=True)\n",
    "\n",
    "tok_ds_train = tok_ds_train.remove_columns([\"polarity\", \"Aspect_Category\", \"Target_term\", \"Character_offset\", \"Sentence\"])\n",
    "\n",
    "# tok_ds_train = tok_ds_train.rename_column(\"label\", \"labels\")\n",
    "tok_ds_test=get_tok_ds(ds_test)"
   ]
  },
  {
   "cell_type": "code",
   "execution_count": 8,
   "id": "ad6ec9a6",
   "metadata": {},
   "outputs": [],
   "source": [
    "from transformers import DataCollatorWithPadding\n",
    "from torch.utils.data import DataLoader\n",
    "\n",
    "\n",
    "\n",
    "# just for testing\n"
   ]
  },
  {
   "cell_type": "code",
   "execution_count": null,
   "id": "a059f68f",
   "metadata": {},
   "outputs": [],
   "source": [
    "from torch.optim import AdamW\n",
    "from transformers import get_scheduler\n",
    "\n",
    "optimizer = AdamW(model.parameters(), lr=5e-5)\n",
    "from tqdm.auto import tqdm\n",
    "\n",
    "\n",
    "\n",
    "def train_model():\n",
    "    data_collator = DataCollatorWithPadding(tokenizer=model.lmtokenizer, padding=True, return_tensors='pt')\n",
    "\n",
    "    train_dataloader = DataLoader(tok_ds_train, shuffle=True, batch_size=32, collate_fn=data_collator)# couldn't increase number of workers\n",
    "    val_dataloader = DataLoader(tok_ds_test, shuffle=False, batch_size=32, collate_fn=data_collator)# couldn't increase number of workers\n",
    "\n",
    "    num_epochs = 5\n",
    "    num_training_steps = num_epochs * len(train_dataloader)\n",
    "    lr_scheduler = get_scheduler(\n",
    "        name=\"linear\", optimizer=optimizer, num_warmup_steps=0, num_training_steps=num_training_steps\n",
    "    )\n",
    "\n",
    "    device = torch.device(\"cuda\") if torch.cuda.is_available() else torch.device(\"cpu\")\n",
    "    model.to(device)\n",
    "\n",
    "    progress_bar = tqdm(range(num_training_steps))\n",
    "    model.train()\n",
    "\n",
    "    for epoch in range(num_epochs):\n",
    "        correct = 0\n",
    "        total = 0\n",
    "        train_loss = 0\n",
    "\n",
    "        for batch in train_dataloader:\n",
    "            batch = {k: v.to(device) for k, v in batch.items()}\n",
    "            predictions = model(batch)\n",
    "            loss = model.loss_fn(predictions, batch['labels'].float())\n",
    "            loss.backward()\n",
    "\n",
    "            optimizer.step()\n",
    "            lr_scheduler.step()\n",
    "            optimizer.zero_grad()\n",
    "            progress_bar.update(1)\n",
    "\n",
    "            preds = (predictions > 0.5).float()\n",
    "            correct += (preds == batch['labels']).sum().item()\n",
    "            total += batch['labels'].size(0)\n",
    "            train_loss += loss.item()\n",
    "\n",
    "        train_accuracy = correct / total\n",
    "        avg_train_loss = train_loss / len(train_dataloader)\n",
    "\n",
    "        # Validation phase\n",
    "        model.eval()\n",
    "        val_loss = 0\n",
    "        val_correct = 0\n",
    "        val_total = 0\n",
    "        with torch.no_grad():\n",
    "            for batch in val_dataloader:\n",
    "                batch = {k: v.to(device) for k, v in batch.items()}\n",
    "                predictions = model(batch)\n",
    "                loss = model.loss_fn(predictions, batch['labels'].float())\n",
    "\n",
    "                preds = (predictions > 0.5).float()\n",
    "                val_correct += (preds == batch['labels']).sum().item()\n",
    "                val_total += batch['labels'].size(0)\n",
    "                val_loss += loss.item()\n",
    "\n",
    "        val_accuracy = val_correct / val_total\n",
    "        avg_val_loss = val_loss / len(val_dataloader)\n",
    "\n",
    "        print(f\"Epoch {epoch + 1}/{num_epochs} - Train Acc: {train_accuracy:.4f}, Train Loss: {avg_train_loss:.4f} - Val Acc: {val_accuracy:.4f}, Val Loss: {avg_val_loss:.4f}\")\n",
    "\n",
    "        model.train()\n"
   ]
  },
  {
   "cell_type": "code",
   "execution_count": 10,
   "id": "9db93cf5",
   "metadata": {},
   "outputs": [
    {
     "name": "stderr",
     "output_type": "stream",
     "text": [
      "  0%|          | 0/235 [00:00<?, ?it/s]huggingface/tokenizers: The current process just got forked, after parallelism has already been used. Disabling parallelism to avoid deadlocks...\n",
      "To disable this warning, you can either:\n",
      "\t- Avoid using `tokenizers` before the fork if possible\n",
      "\t- Explicitly set the environment variable TOKENIZERS_PARALLELISM=(true | false)\n",
      "huggingface/tokenizers: The current process just got forked, after parallelism has already been used. Disabling parallelism to avoid deadlocks...\n",
      "To disable this warning, you can either:\n",
      "\t- Avoid using `tokenizers` before the fork if possible\n",
      "\t- Explicitly set the environment variable TOKENIZERS_PARALLELISM=(true | false)\n",
      " 20%|██        | 47/235 [00:27<01:39,  1.89it/s]TOKENIZERS_PARALLELISM=(true | false)\n"
     ]
    },
    {
     "name": "stdout",
     "output_type": "stream",
     "text": [
      "Epoch 1/5 - Accuracy: 0.7159\n"
     ]
    },
    {
     "name": "stderr",
     "output_type": "stream",
     "text": [
      "huggingface/tokenizers: The current process just got forked, after parallelism has already been used. Disabling parallelism to avoid deadlocks...\n",
      "To disable this warning, you can either:\n",
      "\t- Avoid using `tokenizers` before the fork if possible\n",
      "\t- Explicitly set the environment variable TOKENIZERS_PARALLELISM=(true | false)\n",
      "huggingface/tokenizers: The current process just got forked, after parallelism has already been used. Disabling parallelism to avoid deadlocks...\n",
      "To disable this warning, you can either:\n",
      "\t- Avoid using `tokenizers` before the fork if possible\n",
      "\t- Explicitly set the environment variable TOKENIZERS_PARALLELISM=(true | false)\n",
      " 40%|████      | 94/235 [00:54<01:17,  1.82it/s]"
     ]
    },
    {
     "name": "stdout",
     "output_type": "stream",
     "text": [
      "Epoch 2/5 - Accuracy: 0.8064\n"
     ]
    },
    {
     "name": "stderr",
     "output_type": "stream",
     "text": [
      "huggingface/tokenizers: The current process just got forked, after parallelism has already been used. Disabling parallelism to avoid deadlocks...\n",
      "To disable this warning, you can either:\n",
      "\t- Avoid using `tokenizers` before the fork if possible\n",
      "\t- Explicitly set the environment variable TOKENIZERS_PARALLELISM=(true | false)\n",
      "huggingface/tokenizers: The current process just got forked, after parallelism has already been used. Disabling parallelism to avoid deadlocks...\n",
      "To disable this warning, you can either:\n",
      "\t- Avoid using `tokenizers` before the fork if possible\n",
      "\t- Explicitly set the environment variable TOKENIZERS_PARALLELISM=(true | false)\n",
      " 60%|██████    | 141/235 [01:21<00:53,  1.77it/s]"
     ]
    },
    {
     "name": "stdout",
     "output_type": "stream",
     "text": [
      "Epoch 3/5 - Accuracy: 0.8576\n"
     ]
    },
    {
     "name": "stderr",
     "output_type": "stream",
     "text": [
      "huggingface/tokenizers: The current process just got forked, after parallelism has already been used. Disabling parallelism to avoid deadlocks...\n",
      "To disable this warning, you can either:\n",
      "\t- Avoid using `tokenizers` before the fork if possible\n",
      "\t- Explicitly set the environment variable TOKENIZERS_PARALLELISM=(true | false)\n",
      "huggingface/tokenizers: The current process just got forked, after parallelism has already been used. Disabling parallelism to avoid deadlocks...\n",
      "To disable this warning, you can either:\n",
      "\t- Avoid using `tokenizers` before the fork if possible\n",
      "\t- Explicitly set the environment variable TOKENIZERS_PARALLELISM=(true | false)\n",
      " 80%|████████  | 188/235 [01:48<00:28,  1.67it/s]"
     ]
    },
    {
     "name": "stdout",
     "output_type": "stream",
     "text": [
      "Epoch 4/5 - Accuracy: 0.8756\n"
     ]
    },
    {
     "name": "stderr",
     "output_type": "stream",
     "text": [
      "huggingface/tokenizers: The current process just got forked, after parallelism has already been used. Disabling parallelism to avoid deadlocks...\n",
      "To disable this warning, you can either:\n",
      "\t- Avoid using `tokenizers` before the fork if possible\n",
      "\t- Explicitly set the environment variable TOKENIZERS_PARALLELISM=(true | false)\n",
      "huggingface/tokenizers: The current process just got forked, after parallelism has already been used. Disabling parallelism to avoid deadlocks...\n",
      "To disable this warning, you can either:\n",
      "\t- Avoid using `tokenizers` before the fork if possible\n",
      "\t- Explicitly set the environment variable TOKENIZERS_PARALLELISM=(true | false)\n",
      " 83%|████████▎ | 196/235 [01:53<00:21,  1.80it/s]"
     ]
    },
    {
     "ename": "KeyboardInterrupt",
     "evalue": "",
     "output_type": "error",
     "traceback": [
      "\u001b[31m---------------------------------------------------------------------------\u001b[39m",
      "\u001b[31mKeyboardInterrupt\u001b[39m                         Traceback (most recent call last)",
      "\u001b[36mCell\u001b[39m\u001b[36m \u001b[39m\u001b[32mIn[10]\u001b[39m\u001b[32m, line 1\u001b[39m\n\u001b[32m----> \u001b[39m\u001b[32m1\u001b[39m \u001b[43mtrain_model\u001b[49m\u001b[43m(\u001b[49m\u001b[43m)\u001b[49m\n",
      "\u001b[36mCell\u001b[39m\u001b[36m \u001b[39m\u001b[32mIn[9]\u001b[39m\u001b[32m, line 46\u001b[39m, in \u001b[36mtrain_model\u001b[39m\u001b[34m()\u001b[39m\n\u001b[32m     44\u001b[39m     \u001b[38;5;66;03m# Compute binary predictions: threshold at 0.5\u001b[39;00m\n\u001b[32m     45\u001b[39m     preds = (predictions > \u001b[32m0.5\u001b[39m).float()\n\u001b[32m---> \u001b[39m\u001b[32m46\u001b[39m     correct += \u001b[43m(\u001b[49m\u001b[43mpreds\u001b[49m\u001b[43m \u001b[49m\u001b[43m==\u001b[49m\u001b[43m \u001b[49m\u001b[43mbatch\u001b[49m\u001b[43m[\u001b[49m\u001b[33;43m'\u001b[39;49m\u001b[33;43mlabels\u001b[39;49m\u001b[33;43m'\u001b[39;49m\u001b[43m]\u001b[49m\u001b[43m)\u001b[49m\u001b[43m.\u001b[49m\u001b[43msum\u001b[49m\u001b[43m(\u001b[49m\u001b[43m)\u001b[49m\u001b[43m.\u001b[49m\u001b[43mitem\u001b[49m\u001b[43m(\u001b[49m\u001b[43m)\u001b[49m\n\u001b[32m     47\u001b[39m     total += batch[\u001b[33m'\u001b[39m\u001b[33mlabels\u001b[39m\u001b[33m'\u001b[39m].size(\u001b[32m0\u001b[39m)\n\u001b[32m     50\u001b[39m accuracy = correct / total\n",
      "\u001b[31mKeyboardInterrupt\u001b[39m: "
     ]
    }
   ],
   "source": [
    "train_model()"
   ]
  },
  {
   "cell_type": "code",
   "execution_count": null,
   "id": "dfe8bcab",
   "metadata": {},
   "outputs": [
    {
     "name": "stderr",
     "output_type": "stream",
     "text": [
      "  3%|▎         | 25/940 [00:04<02:57,  5.14it/s]\n",
      " 20%|██        | 190/940 [00:30<02:09,  5.81it/s]"
     ]
    },
    {
     "name": "stdout",
     "output_type": "stream",
     "text": [
      "Epoch 1/5 - Accuracy: 0.7186\n"
     ]
    },
    {
     "name": "stderr",
     "output_type": "stream",
     "text": [
      " 40%|████      | 378/940 [01:00<01:23,  6.72it/s]"
     ]
    },
    {
     "name": "stdout",
     "output_type": "stream",
     "text": [
      "Epoch 2/5 - Accuracy: 0.8277\n"
     ]
    },
    {
     "name": "stderr",
     "output_type": "stream",
     "text": [
      " 60%|██████    | 566/940 [01:31<01:00,  6.16it/s]"
     ]
    },
    {
     "name": "stdout",
     "output_type": "stream",
     "text": [
      "Epoch 3/5 - Accuracy: 0.8516\n"
     ]
    },
    {
     "name": "stderr",
     "output_type": "stream",
     "text": [
      " 80%|████████  | 754/940 [02:01<00:30,  6.04it/s]"
     ]
    },
    {
     "name": "stdout",
     "output_type": "stream",
     "text": [
      "Epoch 4/5 - Accuracy: 0.8596\n"
     ]
    },
    {
     "name": "stderr",
     "output_type": "stream",
     "text": [
      "100%|██████████| 940/940 [02:31<00:00,  6.55it/s]"
     ]
    },
    {
     "name": "stdout",
     "output_type": "stream",
     "text": [
      "Epoch 5/5 - Accuracy: 0.8570\n"
     ]
    }
   ],
   "source": []
  }
 ],
 "metadata": {
  "kernelspec": {
   "display_name": "Python 3 (ipykernel)",
   "language": "python",
   "name": "python3"
  },
  "language_info": {
   "codemirror_mode": {
    "name": "ipython",
    "version": 3
   },
   "file_extension": ".py",
   "mimetype": "text/x-python",
   "name": "python",
   "nbconvert_exporter": "python",
   "pygments_lexer": "ipython3",
   "version": "3.12.7"
  }
 },
 "nbformat": 4,
 "nbformat_minor": 5
}
